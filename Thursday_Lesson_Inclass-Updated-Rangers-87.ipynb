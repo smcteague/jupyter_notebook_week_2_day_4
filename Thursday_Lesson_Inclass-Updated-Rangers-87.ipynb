{
 "cells": [
  {
   "cell_type": "markdown",
   "metadata": {},
   "source": [
    "# User-Defined Functions & Scoping"
   ]
  },
  {
   "cell_type": "markdown",
   "metadata": {},
   "source": [
    "## Tasks Today:\n",
    "\n",
    "\n",
    "1) Functions <br>\n",
    " &nbsp;&nbsp;&nbsp;&nbsp; a) User-Defined vs. Built-In Functions <br>\n",
    " &nbsp;&nbsp;&nbsp;&nbsp; b) Accepting Parameters <br>\n",
    " &nbsp;&nbsp;&nbsp;&nbsp; c) Default Parameters <br>\n",
    " &nbsp;&nbsp;&nbsp;&nbsp; d) Making an Argument Optional <br>\n",
    " &nbsp;&nbsp;&nbsp;&nbsp; e) Keyword Arguments <br>\n",
    " &nbsp;&nbsp;&nbsp;&nbsp; f) Returning Values <br>\n",
    " &nbsp;&nbsp;&nbsp;&nbsp; g) *args <br>\n",
    " &nbsp;&nbsp;&nbsp;&nbsp; h) Docstring <br>\n",
    " &nbsp;&nbsp;&nbsp;&nbsp; i) Using a User Function in a Loop <br>\n",
    "2) Scope\n",
    "3) Creating more User-Defined functions "
   ]
  },
  {
   "cell_type": "markdown",
   "metadata": {},
   "source": [
    "\n",
    "## Functions"
   ]
  },
  {
   "cell_type": "markdown",
   "metadata": {},
   "source": [
    "##### User-Defined vs. Built-In Functions"
   ]
  },
  {
   "cell_type": "code",
   "execution_count": 7,
   "metadata": {},
   "outputs": [
    {
     "name": "stdout",
     "output_type": "stream",
     "text": [
      "Hello\n",
      "Hello world from Coding Temple\n",
      "<function say_hello at 0x0000018E149C5D30>\n"
     ]
    }
   ],
   "source": [
    "# built-in functions\n",
    "print(\"Hello\")\n",
    "\n",
    "# user defined functions\n",
    "def say_hello():\n",
    "    return \"Hello world from Coding Temple\"\n",
    "\n",
    "print(say_hello())\n",
    "\n",
    "print(say_hello)\n"
   ]
  },
  {
   "cell_type": "markdown",
   "metadata": {},
   "source": [
    "##### Accepting Parameters"
   ]
  },
  {
   "cell_type": "code",
   "execution_count": 9,
   "metadata": {
    "scrolled": true
   },
   "outputs": [
    {
     "name": "stdout",
     "output_type": "stream",
     "text": [
      "Hi my last name is McTeague, and my firt name is Steve.\n"
     ]
    }
   ],
   "source": [
    "# order always matters! parameters are based on order\n",
    "# pass any kind of variable into a function as a parameter (strings, integers, \n",
    "# booleans, lists, dictionaries)\n",
    "\n",
    "def print_full_name(first_name, last_name):\n",
    "    return f\"Hi my last name is {last_name}, and my firt name is {first_name}.\"\n",
    "\n",
    "print(print_full_name(\"Steve\", \"McTeague\"))\n"
   ]
  },
  {
   "cell_type": "markdown",
   "metadata": {},
   "source": [
    "##### Default Parameters"
   ]
  },
  {
   "cell_type": "code",
   "execution_count": 13,
   "metadata": {},
   "outputs": [
    {
     "name": "stdout",
     "output_type": "stream",
     "text": [
      "The name is Bond....James Bond\n",
      "The name is and the Giant Peach....James and the Giant Peach\n"
     ]
    }
   ],
   "source": [
    "# default parameters MUST come after non-default parameters at ALL TIMES...or else!\n",
    "\n",
    "def agent_name(first_name, last_name=\"Bond\"):\n",
    "    return f\"The name is {last_name}....{first_name} {last_name}\"\n",
    "\n",
    "print(agent_name(\"James\"))\n",
    "print(agent_name(\"James\", \"and the Giant Peach\"))\n"
   ]
  },
  {
   "cell_type": "code",
   "execution_count": 17,
   "metadata": {},
   "outputs": [
    {
     "name": "stdout",
     "output_type": "stream",
     "text": [
      "Your birthday is the 11th day of October and you were born in 1980\n",
      "Your birthday is the 11th day of September and you were born in 1980\n"
     ]
    }
   ],
   "source": [
    "def oct_birthday(day, year, month=\"October\"):\n",
    "    return f\"Your birthday is the {day} day of {month} and you were born in {year}\"\n",
    "    \n",
    "print(oct_birthday(\"11th\", 1980))\n",
    "print(oct_birthday(\"11th\", 1980, \"September\"))\n"
   ]
  },
  {
   "cell_type": "markdown",
   "metadata": {},
   "source": [
    "##### Making an Argument Optional"
   ]
  },
  {
   "cell_type": "code",
   "execution_count": 20,
   "metadata": {},
   "outputs": [
    {
     "name": "stdout",
     "output_type": "stream",
     "text": [
      "Hello, my name is Mr.  Ed and I am pretty cool horse....naaaay\n",
      "Hello, my name is Mrs. Sea Biscuit Ed and I am pretty cool horse....naaaay\n"
     ]
    }
   ],
   "source": [
    "def print_horse_name(first, middle=\"\", last=\"Ed\"):\n",
    "    return f\"Hello, my name is {first} {middle} {last} and I am pretty cool horse....naaaay\"\n",
    "\n",
    "print(print_horse_name(\"Mr.\"))\n",
    "print(print_horse_name(\"Mrs.\", \"Sea Biscuit\"))\n"
   ]
  },
  {
   "cell_type": "markdown",
   "metadata": {},
   "source": [
    "##### Keyword Arguments"
   ]
  },
  {
   "cell_type": "code",
   "execution_count": 21,
   "metadata": {},
   "outputs": [
    {
     "name": "stdout",
     "output_type": "stream",
     "text": [
      "Harry Potter's power is invisible\n",
      "Superman's power is flying\n"
     ]
    }
   ],
   "source": [
    "def print_hero(name, power=\"invisible\"):\n",
    "    return f\"{name}'s power is {power}\"\n",
    "\n",
    "print(print_hero(\"Harry Potter\"))\n",
    "print(print_hero(power=\"flying\", name=\"Superman\"))\n"
   ]
  },
  {
   "cell_type": "code",
   "execution_count": 41,
   "metadata": {},
   "outputs": [
    {
     "name": "stdout",
     "output_type": "stream",
     "text": [
      "Start: 0 Stop: 10 Step: 5\n"
     ]
    }
   ],
   "source": [
    "# Create a function (or more than one) that accepts positional, default, and optional arguments.\n",
    "\n",
    "def function_parameters(stop, start=\"\", step=1):\n",
    "    return f\"Start: {start} Stop: {stop} Step: {step}\"\n",
    "\n",
    "print(function_parameters(10, 0, step=5))\n"
   ]
  },
  {
   "cell_type": "markdown",
   "metadata": {},
   "source": [
    "# Creating a start, stop, step function"
   ]
  },
  {
   "cell_type": "code",
   "execution_count": 36,
   "metadata": {},
   "outputs": [
    {
     "name": "stdout",
     "output_type": "stream",
     "text": [
      "0\n",
      "1\n",
      "2\n",
      "3\n",
      "4\n",
      "5\n",
      "6\n",
      "7\n",
      "8\n",
      "9\n",
      "\n",
      "\n",
      "2\n",
      "4\n",
      "6\n",
      "8\n"
     ]
    }
   ],
   "source": [
    "# Create a function (or more than one) that accepts positional, default, and optional arguments.\n",
    "\n",
    "def my_range(stop, start=0, step=1):\n",
    "    for i in range(start, stop, step):\n",
    "        print(i)\n",
    "\n",
    "my_range(10)\n",
    "print(\"\\n\")\n",
    "my_range(10, 2, 2)\n"
   ]
  },
  {
   "cell_type": "markdown",
   "metadata": {},
   "source": [
    "##### Returning Values"
   ]
  },
  {
   "cell_type": "code",
   "execution_count": 40,
   "metadata": {},
   "outputs": [
    {
     "name": "stdout",
     "output_type": "stream",
     "text": [
      "100\n"
     ]
    },
    {
     "data": {
      "text/plain": [
       "100"
      ]
     },
     "execution_count": 40,
     "metadata": {},
     "output_type": "execute_result"
    }
   ],
   "source": [
    "def add_nums(num1, num2):\n",
    "    return num1 + num2\n",
    "\n",
    "print(add_nums(56, 44))\n",
    "add_nums(56, 44)\n"
   ]
  },
  {
   "cell_type": "markdown",
   "metadata": {},
   "source": [
    "##### **args / **kwargs (keyword arguments)"
   ]
  },
  {
   "cell_type": "code",
   "execution_count": 42,
   "metadata": {},
   "outputs": [
    {
     "name": "stdout",
     "output_type": "stream",
     "text": [
      "These are our positional arguments: 2\n",
      "These are our args: (10, 'megazord')\n",
      "These are our kwargs: {'names': ['Alex', 'Perry', 'Kelsey'], 'subject': 'Python'}\n"
     ]
    }
   ],
   "source": [
    "# *args stands for arguments, **kwargs stands for keyword arguments\n",
    "# & they can take any number of arguments & keyword arguments\n",
    "\n",
    "def print_args_kwargs(num1, *args, **kwargs):\n",
    "    print(f\"These are our positional arguments: {num1}\")\n",
    "    print(f\"These are our args: {args}\")\n",
    "    print(f\"These are our kwargs: {kwargs}\")\n",
    "\n",
    "print_args_kwargs(2, 10, \"megazord\", names=[\"Alex\", \"Perry\", \"Kelsey\"], subject=\"Python\")    \n",
    "    "
   ]
  },
  {
   "cell_type": "code",
   "execution_count": 46,
   "metadata": {},
   "outputs": [
    {
     "name": "stdout",
     "output_type": "stream",
     "text": [
      "You provided these positional arguments: \n",
      "Hello, 3, ----\n",
      "\n",
      "You provided these *args: \n",
      "('Today', 'Is', 'Not', 'Friday')\n",
      "\n",
      "You provided these **kwargs: \n",
      "{'sport': 'tennis', 'bands': ['Dinosaur Jr.', \"Jane's Addiction\", 'Berlin'], 'city': 'Paris'}\n"
     ]
    }
   ],
   "source": [
    "# Write a function that accepts positional arguments, at least 3 args \n",
    "# and at least 2 kwargs and prints out each argument and keyword argument on its own line.\n",
    "\n",
    "def print_various_args(arg1, arg2, arg3, *args, **kwargs):\n",
    "    print(f\"You provided these positional arguments: \\n{arg1}, {arg2}, {arg3}\")\n",
    "    print(f\"\\nYou provided these *args: \\n{args}\")\n",
    "    print(f\"\\nYou provided these **kwargs: \\n{kwargs}\")\n",
    "    \n",
    "print_various_args(\"Hello\", 3, \"----\", \"Today\", \"Is\", \"Not\", \"Friday\", sport=\"tennis\", bands=[\"Dinosaur Jr.\", \"Jane's Addiction\", \"Berlin\"], city=\"Paris\")\n"
   ]
  },
  {
   "cell_type": "code",
   "execution_count": 52,
   "metadata": {},
   "outputs": [
    {
     "name": "stdout",
     "output_type": "stream",
     "text": [
      "This is my positional argument: \n",
      "My fav time of year is Fall\n",
      "\n",
      "These are my *args: \n",
      "These are the fun things I like to do: \n",
      "pumkin patches\n",
      "hiking\n",
      "carve pumpkins\n",
      "corn mazes\n",
      "\n",
      "These are my **kwargs: \n",
      "These are my fav spooky movies: \n",
      "Genre is possession\n",
      "Movie is The Conjuring\n",
      "Genre is gore\n",
      "Movie is Saw\n",
      "Genre is animatedish\n",
      "Movie is Nightmare Before Christmas\n"
     ]
    }
   ],
   "source": [
    "def halloween_time(season, *fun_things, **fav_movies):\n",
    "    print(\"This is my positional argument: \")\n",
    "    print(f\"My fav time of year is {season}\\n\")\n",
    "    \n",
    "    print(\"These are my *args: \")\n",
    "    print(\"These are the fun things I like to do: \")\n",
    "    \n",
    "    for things in fun_things:\n",
    "        print(things)\n",
    "    \n",
    "    print(\"\\nThese are my **kwargs: \")\n",
    "    print(\"These are my fav spooky movies: \")\n",
    "    \n",
    "    for key, value in fav_movies.items():\n",
    "        print(f\"Genre is {key}\")\n",
    "        print(f\"Movie is {value}\")\n",
    "        \n",
    "halloween_time(\"Fall\", \"pumkin patches\", \"hiking\", \"carve pumpkins\", \"corn mazes\",\n",
    "              possession=\"The Conjuring\", gore=\"Saw\", animatedish=\"Nightmare Before Christmas\")"
   ]
  },
  {
   "cell_type": "markdown",
   "metadata": {},
   "source": [
    "##### Docstring"
   ]
  },
  {
   "cell_type": "code",
   "execution_count": 54,
   "metadata": {},
   "outputs": [],
   "source": [
    "# docstring is giving some information about the function\n",
    "\n",
    "def print_names(arr):\n",
    "    \"\"\"\n",
    "    The print_names() function requires a list to be passed as a parameter and will\n",
    "    print the contents of the list.  It is expecting a list of strings to be passed into it.\n",
    "    \"\"\"\n",
    "    for name in arr:\n",
    "        print(name)\n",
    "\n"
   ]
  },
  {
   "cell_type": "code",
   "execution_count": 71,
   "metadata": {},
   "outputs": [
    {
     "name": "stdout",
     "output_type": "stream",
     "text": [
      "Help on function print_names in module __main__:\n",
      "\n",
      "print_names(arr)\n",
      "    The print_names() function requires a list to be passed as a parameter and will\n",
      "    print the contents of the list.  It is expecting a list of strings to be passed into it.\n",
      "\n"
     ]
    }
   ],
   "source": [
    "help(print_names)"
   ]
  },
  {
   "cell_type": "code",
   "execution_count": 56,
   "metadata": {},
   "outputs": [
    {
     "name": "stdout",
     "output_type": "stream",
     "text": [
      "<function print_names at 0x0000018E14A324C0>\n",
      "Chris\n",
      "Perry\n",
      "Teddie\n",
      "Katie\n"
     ]
    }
   ],
   "source": [
    "print(print_names)\n",
    "print_names(['Chris', 'Perry', 'Teddie', 'Katie'])"
   ]
  },
  {
   "cell_type": "markdown",
   "metadata": {},
   "source": [
    "##### Using a User Function in a Loop"
   ]
  },
  {
   "cell_type": "code",
   "execution_count": 58,
   "metadata": {},
   "outputs": [
    {
     "name": "stdout",
     "output_type": "stream",
     "text": [
      "What do you want to do today? learn to code\n",
      "Your answer is learn to code\n",
      "Do you want to quit? (yes / no) yes\n"
     ]
    }
   ],
   "source": [
    "def print_input(answer):\n",
    "    print(f\"Your answer is {answer}\")\n",
    "    \n",
    "    \n",
    "while True:\n",
    "    ask = input(\"What do you want to do today? \")\n",
    "    \n",
    "    print_input(ask)\n",
    "    \n",
    "    response = input(\"Do you want to quit? (yes / no) \")\n",
    "    if response.lower().strip() == 'yes':\n",
    "        break\n",
    "    "
   ]
  },
  {
   "cell_type": "code",
   "execution_count": 70,
   "metadata": {
    "scrolled": true
   },
   "outputs": [
    {
     "name": "stdout",
     "output_type": "stream",
     "text": [
      "this is our num: 1\n",
      "this is multiplication of num: 2\n",
      "this is our num: 2\n",
      "this is multiplication of num: 4\n",
      "this is our num: 3\n",
      "this is multiplication of num: 6\n",
      "this is our num: 4\n",
      "this is multiplication of num: 8\n",
      "this is our num: 5\n",
      "this is multiplication of num: 10\n"
     ]
    }
   ],
   "source": [
    "# helper functions are another function that performs a task within another loop or function.\n",
    "# used a lot when that particular utility needs to be used multiple times.\n",
    "\n",
    "def times_two(num):\n",
    "    return num * 2\n",
    "\n",
    "def my_range(stop, start=\"\", step=1):\n",
    "    for i in range(start, stop, step):\n",
    "        print(f\"this is our num: {i}\")\n",
    "        print(f\"this is multiplication of num: {times_two(i)}\")\n",
    "\n",
    "my_range(6, 1)\n",
    "    "
   ]
  },
  {
   "cell_type": "markdown",
   "metadata": {},
   "source": [
    "## Function Exercises <br>\n",
    "### Exercise 1\n",
    "<p>Write a function that loops through a list of first_names and a list of last_names, combines the two and return a list of full_names</p>"
   ]
  },
  {
   "cell_type": "code",
   "execution_count": 73,
   "metadata": {},
   "outputs": [
    {
     "data": {
      "text/plain": [
       "['John Smith', 'Evan Smith', 'Jordan Williams', 'Max Bell']"
      ]
     },
     "execution_count": 73,
     "metadata": {},
     "output_type": "execute_result"
    }
   ],
   "source": [
    "first_name = ['John', 'Evan', 'Jordan', 'Max']\n",
    "last_name = ['Smith', 'Smith', 'Williams', 'Bell']\n",
    "\n",
    "# Output: ['John Smith', 'Evan Smith', 'Jordan Williams', 'Max Bell']\n",
    "\n",
    "def full_names(first, last):\n",
    "    \"\"\"\n",
    "    Our function full_names is going to be combining the first & last names together\n",
    "    and return full names.\n",
    "    \"\"\"\n",
    "    return (first + \" \" + last).title()\n",
    "\n",
    "def names(first_name, last_name):\n",
    "    fulls = []\n",
    "    \n",
    "    for i in range(len(first_name)):\n",
    "        whole_name = full_names(first_name[i], last_name[i])\n",
    "        fulls.append(whole_name)\n",
    "    \n",
    "    return fulls\n",
    "\n",
    "names(first_name, last_name)\n"
   ]
  },
  {
   "cell_type": "markdown",
   "metadata": {},
   "source": [
    "### Exercise 2\n",
    "Create a function that alters all values in the given list by subtracting 5 and then doubling them."
   ]
  },
  {
   "cell_type": "code",
   "execution_count": 84,
   "metadata": {},
   "outputs": [
    {
     "name": "stdout",
     "output_type": "stream",
     "text": [
      "[0, 10, 20, 30, -4]\n"
     ]
    }
   ],
   "source": [
    "input_list = [5,10,15,20,3]\n",
    "# output = [0,10,20,30,-4]\n",
    "\n",
    "def subtract_5(arr):\n",
    "    \"\"\"\n",
    "    Function that alters all values in the given list by subtracting 5.\n",
    "    Returns a list of integers.\n",
    "    \"\"\"\n",
    "    new_arr = []\n",
    "    for num in arr:\n",
    "        new_arr.append(num - 5)\n",
    "    return new_arr\n",
    "\n",
    "def double_num(arr):\n",
    "    \"\"\"\n",
    "    Function that alters all values in the given list by doubling them.\n",
    "    Returns a list of integers.\n",
    "    \"\"\"\n",
    "    new_arr = []\n",
    "    for num in arr:\n",
    "        new_arr.append(num * 2)\n",
    "    return new_arr    \n",
    "\n",
    "print(double_num(subtract_5(input_list)))  \n"
   ]
  },
  {
   "cell_type": "markdown",
   "metadata": {},
   "source": [
    "### Exercise 3\n",
    "Create a function that takes in a list of strings and filters out the strings that DO NOT contain vowels. "
   ]
  },
  {
   "cell_type": "code",
   "execution_count": 85,
   "metadata": {},
   "outputs": [
    {
     "data": {
      "text/plain": [
       "['Sheldon', 'Leonard', 'Amy']"
      ]
     },
     "execution_count": 85,
     "metadata": {},
     "output_type": "execute_result"
    }
   ],
   "source": [
    "string_list = ['Sheldon','Pnny','Leonard','Hwrd','Rj','Amy','Strt']\n",
    "# output = ['Sheldon','Leonard','Amy']\n",
    "\n",
    "def strings_with_vowels(arr):\n",
    "    \"\"\"\n",
    "    Function that takes in a list of strings and filters out the strings \n",
    "    that DO NOT contain vowels.\n",
    "    \n",
    "    Returns a list of strings.\n",
    "    \"\"\"\n",
    "    return [word for word in arr if 'a' in word.lower() \n",
    "            or 'e' in word.lower() or 'i' in word.lower()\n",
    "            or 'o' in word.lower() or 'u' in word.lower()]\n",
    "\n",
    "strings_with_vowels(string_list)\n"
   ]
  },
  {
   "cell_type": "markdown",
   "metadata": {},
   "source": [
    "### Exercise 4\n",
    "Create a function that accepts a list as a parameter and returns a dictionary containing the list items as it's keys, and the number of times they appear in the list as the values"
   ]
  },
  {
   "cell_type": "code",
   "execution_count": 98,
   "metadata": {},
   "outputs": [
    {
     "name": "stdout",
     "output_type": "stream",
     "text": [
      "{'Harry': 3, 'Hermione': 2, 'Ron': 4, 'Dobby': 1, 'Draco': 1, 'Luna': 1}\n"
     ]
    }
   ],
   "source": [
    "example_list = [\"Harry\", 'Hermione','Harry','Ron','Dobby','Draco','Luna','Harry','Hermione','Ron','Ron','Ron']\n",
    "\n",
    "# output = {\n",
    "#     \"Harry\":3,\n",
    "#     \"Hermione\":2,\n",
    "#     \"Ron\":4,\n",
    "#     \"Dobby\":1,\n",
    "#     \"Draco\":1,\n",
    "#     \"Luna\": 1\n",
    "# }\n",
    "\n",
    "def make_dict(arr):\n",
    "    \"\"\"\n",
    "    Function that accepts a list as a parameter and returns a dictionary \n",
    "    containing the list items as it's keys, and the number of times they appear \n",
    "    in the list as the values.\n",
    "    \"\"\"\n",
    "    names = {}\n",
    "    \n",
    "    for name in example_list:\n",
    "        names[name] = 0\n",
    "    for name in example_list:\n",
    "        if name in names:\n",
    "            names[name] += 1 \n",
    "    \n",
    "    return names\n",
    "    \n",
    "print(make_dict(example_list))\n"
   ]
  },
  {
   "cell_type": "markdown",
   "metadata": {},
   "source": [
    "\n",
    "\n",
    "## Scope <br>\n",
    "<p>Scope refers to the ability to access variables, different types of scope include:<br>a) Global<br>b) Function (local)<br>c) Class (local)</p>"
   ]
  },
  {
   "cell_type": "code",
   "execution_count": 102,
   "metadata": {},
   "outputs": [
    {
     "name": "stdout",
     "output_type": "stream",
     "text": [
      "3\n",
      "6\n"
     ]
    }
   ],
   "source": [
    "# placement of variable declaration matters\n",
    "\n",
    "number = 3 # Global Variable\n",
    "\n",
    "def myFunc():\n",
    "    num_3 = 6 # Local Function Variable\n",
    "    return num_3\n",
    "\n",
    "print(number)\n",
    "return_num = myFunc()\n",
    "print(return_num)\n"
   ]
  },
  {
   "cell_type": "markdown",
   "metadata": {},
   "source": [
    "# Homework Exercises"
   ]
  },
  {
   "cell_type": "markdown",
   "metadata": {},
   "source": [
    "## Exercise 1 <br>\n",
    "<p>Given a list as a parameter,write a function that returns a list of numbers that are less than ten</b></i></p><br>\n",
    "<p> For example: Say your input parameter to the function is [1,11,14,5,8,9]...Your output should [1,5,8,9]</p>"
   ]
  },
  {
   "cell_type": "code",
   "execution_count": 103,
   "metadata": {},
   "outputs": [
    {
     "name": "stdout",
     "output_type": "stream",
     "text": [
      "[1, 5, 8, 9]\n"
     ]
    }
   ],
   "source": [
    "# Use the following list - [1,11,14,5,8,9]\n",
    "\n",
    "l_1 = [1,11,14,5,8,9]\n",
    "\n",
    "def less_than_10(arr):\n",
    "    \"\"\"\n",
    "    Function that accepts a list of numbers and returns \n",
    "    a list of numbers that are less than ten.\n",
    "    \"\"\"\n",
    "    return [num for num in l_1 if num < 10]\n",
    "\n",
    "print(less_than_10(l_1))\n"
   ]
  },
  {
   "cell_type": "markdown",
   "metadata": {},
   "source": [
    "## Exercise 2 <br>\n",
    "<p>Write a function that takes in two lists and returns the two lists merged together and sorted<br>\n",
    "<b><i>Hint: You can use the .sort() method</i></b></p>"
   ]
  },
  {
   "cell_type": "code",
   "execution_count": 118,
   "metadata": {},
   "outputs": [
    {
     "data": {
      "text/plain": [
       "[1, 2, 3, 3, 4, 4, 5, 5, 6, 6, 7, 8, 10]"
      ]
     },
     "execution_count": 118,
     "metadata": {},
     "output_type": "execute_result"
    }
   ],
   "source": [
    "l_1 = [1,2,3,4,5,6]\n",
    "l_2 = [3,4,5,6,7,8,10]\n",
    "\n",
    "def merge_sort_lists(arr1, arr2):\n",
    "    \"\"\"\n",
    "    Function that takes in two lists and returns \n",
    "    the two lists merged together and sorted.\n",
    "    \"\"\"\n",
    "    new_arr = arr1 + arr2\n",
    "    new_arr.sort()\n",
    "    return new_arr\n",
    "\n",
    "merge_sort_lists(l_2, l_1)\n"
   ]
  }
 ],
 "metadata": {
  "kernelspec": {
   "display_name": "Python 3 (ipykernel)",
   "language": "python",
   "name": "python3"
  },
  "language_info": {
   "codemirror_mode": {
    "name": "ipython",
    "version": 3
   },
   "file_extension": ".py",
   "mimetype": "text/x-python",
   "name": "python",
   "nbconvert_exporter": "python",
   "pygments_lexer": "ipython3",
   "version": "3.9.12"
  }
 },
 "nbformat": 4,
 "nbformat_minor": 2
}
